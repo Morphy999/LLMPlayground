{
 "cells": [
  {
   "cell_type": "code",
   "execution_count": 9,
   "id": "680ac456",
   "metadata": {},
   "outputs": [],
   "source": [
    "import rootutils\n",
    "root_path = rootutils.setup_root(\".\", indicator=\".project-root\", pythonpath=True)"
   ]
  },
  {
   "cell_type": "code",
   "execution_count": 10,
   "id": "0cb465a2",
   "metadata": {},
   "outputs": [],
   "source": [
    "import torch\n",
    "from core.GPTModel import GPTModel"
   ]
  },
  {
   "cell_type": "code",
   "execution_count": 11,
   "id": "95f162d2",
   "metadata": {},
   "outputs": [],
   "source": [
    "import tiktoken\n",
    "tokenizer = tiktoken.get_encoding(\"gpt2\")"
   ]
  },
  {
   "cell_type": "code",
   "execution_count": 12,
   "id": "8ba0cc87",
   "metadata": {},
   "outputs": [],
   "source": [
    "GPT_CONFIG_124M = {\n",
    " \"vocab_size\": 50257, # Vocabulary size\n",
    " \"context_length\": 256, # Context length\n",
    " \"emb_dim\": 768, # Embedding dimension\n",
    " \"n_heads\": 12, # Number of attention heads\n",
    " \"n_layers\": 12, # Number of layers\n",
    " \"dropout\": 0.1, # Dropout rate\n",
    " \"qvk_bias\": False\n",
    "}"
   ]
  },
  {
   "cell_type": "code",
   "execution_count": 13,
   "id": "8d839f7a",
   "metadata": {},
   "outputs": [
    {
     "name": "stdout",
     "output_type": "stream",
     "text": [
      "I HAD always thought Jack Gisburn rather a cheap genius--though a good fellow enough--so it was no g\n"
     ]
    }
   ],
   "source": [
    "file_path = 'C:/Users/WalterBuenodeBritoNe/Documents/GitHub/LLMPlayground/Data/the-verdict.txt'\n",
    "\n",
    "with open(file_path, 'r', encoding='utf-8') as file:\n",
    "    text = file.read()\n",
    "\n",
    "print(text[:100])"
   ]
  },
  {
   "cell_type": "code",
   "execution_count": 14,
   "id": "e55f2ba6",
   "metadata": {},
   "outputs": [
    {
     "name": "stdout",
     "output_type": "stream",
     "text": [
      "Characters: 20479\n",
      "Tokens: 5145\n"
     ]
    }
   ],
   "source": [
    "total_characters = len(text)\n",
    "total_tokens = len(tokenizer.encode(text))\n",
    "print(\"Characters:\", total_characters)\n",
    "print(\"Tokens:\", total_tokens)"
   ]
  },
  {
   "cell_type": "code",
   "execution_count": 15,
   "id": "22a1d69f",
   "metadata": {},
   "outputs": [
    {
     "name": "stdout",
     "output_type": "stream",
     "text": [
      "Train size: 18431\n",
      "Validation size: 2048\n",
      "Train tokens: 4612\n",
      "Validation tokens: 534\n"
     ]
    }
   ],
   "source": [
    "train_ratio = 0.9\n",
    "train_size = int(train_ratio * len(text))\n",
    "train_text = text[:train_size]\n",
    "validation_text = text[train_size:]\n",
    "\n",
    "print(f\"Train size: {len(train_text)}\")\n",
    "print(f\"Validation size: {len(validation_text)}\")\n",
    "\n",
    "train_tokens = tokenizer.encode(train_text)\n",
    "validation_tokens = tokenizer.encode(validation_text)\n",
    "\n",
    "print(f\"Train tokens: {len(train_tokens)}\")\n",
    "print(f\"Validation tokens: {len(validation_tokens)}\")"
   ]
  },
  {
   "cell_type": "code",
   "execution_count": 16,
   "id": "7b16ca7a",
   "metadata": {},
   "outputs": [],
   "source": [
    "from core.DataUtils import gpt_dataloader"
   ]
  },
  {
   "cell_type": "code",
   "execution_count": 17,
   "id": "520c0210",
   "metadata": {},
   "outputs": [],
   "source": [
    "from core.DataUtils.gpt_dataloader import create_dataloader_v1\n",
    "\n",
    "train_loader = create_dataloader_v1(\n",
    " train_text,\n",
    " batch_size=2,\n",
    " max_length=GPT_CONFIG_124M[\"context_length\"],\n",
    " stride=GPT_CONFIG_124M[\"context_length\"],\n",
    " drop_last=True,\n",
    " shuffle=True,\n",
    " num_workers=0\n",
    ")\n",
    "\n",
    "validation_loader = create_dataloader_v1(\n",
    " validation_text,\n",
    " batch_size=2,\n",
    " max_length=GPT_CONFIG_124M[\"context_length\"],\n",
    " stride=GPT_CONFIG_124M[\"context_length\"],\n",
    " drop_last=True,\n",
    " shuffle=True,\n",
    " num_workers=0\n",
    ")"
   ]
  },
  {
   "cell_type": "code",
   "execution_count": 18,
   "id": "d8ae7d86",
   "metadata": {},
   "outputs": [
    {
     "name": "stdout",
     "output_type": "stream",
     "text": [
      "Train loader:\n",
      "torch.Size([2, 256]) torch.Size([2, 256])\n",
      "torch.Size([2, 256]) torch.Size([2, 256])\n",
      "torch.Size([2, 256]) torch.Size([2, 256])\n",
      "torch.Size([2, 256]) torch.Size([2, 256])\n",
      "torch.Size([2, 256]) torch.Size([2, 256])\n",
      "torch.Size([2, 256]) torch.Size([2, 256])\n",
      "torch.Size([2, 256]) torch.Size([2, 256])\n",
      "torch.Size([2, 256]) torch.Size([2, 256])\n",
      "torch.Size([2, 256]) torch.Size([2, 256])\n",
      "\n",
      "Validation loader:\n",
      "torch.Size([2, 256]) torch.Size([2, 256])\n"
     ]
    }
   ],
   "source": [
    "print(\"Train loader:\")\n",
    "for x, y in train_loader:\n",
    " print(x.shape, y.shape)\n",
    "print(\"\\nValidation loader:\")\n",
    "for x, y in validation_loader:\n",
    " print(x.shape, y.shape)"
   ]
  },
  {
   "cell_type": "code",
   "execution_count": 20,
   "id": "fe82d765",
   "metadata": {},
   "outputs": [],
   "source": [
    "from core.Train import GPTTrainer"
   ]
  },
  {
   "cell_type": "code",
   "execution_count": 23,
   "id": "3bd6ae5b",
   "metadata": {},
   "outputs": [],
   "source": [
    "torch.manual_seed(123)\n",
    "device = torch.device(\"cuda\" if torch.cuda.is_available() else \"cpu\")\n",
    "model = GPTModel(GPT_CONFIG_124M)\n",
    "model.to(device)\n",
    "optimizer = torch.optim.AdamW(\n",
    " model.parameters(),\n",
    " lr=0.0004, weight_decay=0.1\n",
    ")\n",
    "num_epochs = 10"
   ]
  },
  {
   "cell_type": "code",
   "execution_count": null,
   "id": "a9997cd3",
   "metadata": {},
   "outputs": [],
   "source": [
    "trainer = GPTTrainer(model, epochs=num_epochs, eval_freq=5, eval_iter=5, train_loader=train_loader, validation_loader=validation_loader, optimizer=optimizer, device=device)\n",
    "trainer.train()"
   ]
  }
 ],
 "metadata": {
  "kernelspec": {
   "display_name": "llm_env",
   "language": "python",
   "name": "python3"
  },
  "language_info": {
   "codemirror_mode": {
    "name": "ipython",
    "version": 3
   },
   "file_extension": ".py",
   "mimetype": "text/x-python",
   "name": "python",
   "nbconvert_exporter": "python",
   "pygments_lexer": "ipython3",
   "version": "3.10.18"
  }
 },
 "nbformat": 4,
 "nbformat_minor": 5
}
