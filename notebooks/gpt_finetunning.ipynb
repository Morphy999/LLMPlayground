{
 "cells": [
  {
   "cell_type": "code",
   "execution_count": 1,
   "id": "f20f6cc3",
   "metadata": {},
   "outputs": [],
   "source": [
    "import rootutils\n",
    "import torch\n",
    "root_path = rootutils.setup_root(\".\", indicator=\".project-root\", pythonpath=True)"
   ]
  },
  {
   "cell_type": "code",
   "execution_count": 2,
   "id": "2051f8f7",
   "metadata": {},
   "outputs": [],
   "source": [
    "from core.models import GPTModel\n",
    "from core.data import utils as data_utils"
   ]
  },
  {
   "cell_type": "code",
   "execution_count": 3,
   "id": "7f037e27",
   "metadata": {},
   "outputs": [],
   "source": [
    "device = torch.device(\"cuda\" if torch.cuda.is_available() else \"cpu\")"
   ]
  },
  {
   "cell_type": "code",
   "execution_count": 4,
   "id": "62a368c7",
   "metadata": {},
   "outputs": [
    {
     "name": "stdout",
     "output_type": "stream",
     "text": [
      "I HAD always thought Jack Gisburn rather a cheap genius--though a good fellow enough--so it was no g\n"
     ]
    }
   ],
   "source": [
    "file_path = 'C:/Users/WalterBuenodeBritoNe/Documents/GitHub/LLMPlayground/Data/the-verdict.txt'\n",
    "\n",
    "with open(file_path, 'r', encoding='utf-8') as file:\n",
    "    text = file.read()\n",
    "\n",
    "print(text[:100])"
   ]
  },
  {
   "cell_type": "code",
   "execution_count": 5,
   "id": "c17d39a6",
   "metadata": {},
   "outputs": [],
   "source": [
    "model_configs = {\n",
    " \"gpt2-small (124M)\": {\"emb_dim\": 768, \"n_layers\": 12, \"n_heads\": 12, \"context_length\": 1024, 'qvk_bias': True, 'vocab_size': 50257, 'dropout': 0.1},\n",
    " \"gpt2-medium (355M)\": {\"emb_dim\": 1024, \"n_layers\": 24, \"n_heads\": 16, 'vocab_size': 50257, 'qvk_bias': True, 'vocab_size': 50257, 'dropout': 0.1},\n",
    " \"gpt2-large (774M)\": {\"emb_dim\": 1280, \"n_layers\": 36, \"n_heads\": 20, 'vocab_size': 50257,'qvk_bias': True, 'vocab_size': 50257, 'dropout': 0.1},\n",
    " \"gpt2-xl (1558M)\": {\"emb_dim\": 1600, \"n_layers\": 48, \"n_heads\": 25, 'vocab_size': 50257, 'qvk_bias': True, 'vocab_size': 50257, 'dropout': 0.1},\n",
    "}"
   ]
  },
  {
   "cell_type": "code",
   "execution_count": 6,
   "id": "4de6c48c",
   "metadata": {},
   "outputs": [
    {
     "name": "stdout",
     "output_type": "stream",
     "text": [
      "File already exists and is up-to-date: gpt2\\124M\\checkpoint\n",
      "File already exists and is up-to-date: gpt2\\124M\\encoder.json\n",
      "File already exists and is up-to-date: gpt2\\124M\\hparams.json\n",
      "File already exists and is up-to-date: gpt2\\124M\\model.ckpt.data-00000-of-00001\n",
      "File already exists and is up-to-date: gpt2\\124M\\model.ckpt.index\n",
      "File already exists and is up-to-date: gpt2\\124M\\model.ckpt.meta\n",
      "File already exists and is up-to-date: gpt2\\124M\\vocab.bpe\n"
     ]
    }
   ],
   "source": [
    "import urllib.request\n",
    "url = (\n",
    " \"https://raw.githubusercontent.com/rasbt/\"\n",
    " \"LLMs-from-scratch/main/ch05/\"\n",
    " \"01_main-chapter-code/gpt_download.py\"\n",
    ")\n",
    "filename = url.split('/')[-1]\n",
    "urllib.request.urlretrieve(url, filename)\n",
    "\n",
    "\n",
    "from gpt_download import download_and_load_gpt2\n",
    "\n",
    "settings, params = download_and_load_gpt2(\n",
    " model_size=\"124M\", models_dir=\"gpt2\"\n",
    ")"
   ]
  },
  {
   "cell_type": "code",
   "execution_count": 11,
   "id": "807ccb1a",
   "metadata": {},
   "outputs": [
    {
     "name": "stdout",
     "output_type": "stream",
     "text": [
      "File already exists and is up-to-date: gpt2\\1558M\\checkpoint\n",
      "File already exists and is up-to-date: gpt2\\1558M\\encoder.json\n",
      "File already exists and is up-to-date: gpt2\\1558M\\hparams.json\n",
      "File already exists and is up-to-date: gpt2\\1558M\\model.ckpt.data-00000-of-00001\n",
      "File already exists and is up-to-date: gpt2\\1558M\\model.ckpt.index\n",
      "File already exists and is up-to-date: gpt2\\1558M\\model.ckpt.meta\n",
      "File already exists and is up-to-date: gpt2\\1558M\\vocab.bpe\n"
     ]
    }
   ],
   "source": [
    "import urllib.request\n",
    "url = (\n",
    " \"https://raw.githubusercontent.com/rasbt/\"\n",
    " \"LLMs-from-scratch/main/ch05/\"\n",
    " \"01_main-chapter-code/gpt_download.py\"\n",
    ")\n",
    "filename = url.split('/')[-1]\n",
    "urllib.request.urlretrieve(url, filename)\n",
    "\n",
    "\n",
    "from gpt_download import download_and_load_gpt2\n",
    "\n",
    "settings_gpt2_xl, params_gpt2_xl = download_and_load_gpt2(\n",
    " model_size=\"1558M\", models_dir=\"gpt2\"\n",
    ")"
   ]
  },
  {
   "cell_type": "code",
   "execution_count": null,
   "id": "899d77bc",
   "metadata": {},
   "outputs": [],
   "source": [
    "from core.models import GPTModel\n",
    "from core.data import utils as data_utils\n",
    "\n",
    "model_gpt = GPTModel(model_configs[\"gpt2-small (124M)\"])\n",
    "data_utils.load_weights_into_gpt(model_gpt, params)"
   ]
  },
  {
   "cell_type": "code",
   "execution_count": 12,
   "id": "63760aa8",
   "metadata": {},
   "outputs": [],
   "source": [
    "model_configs_xl = model_configs[\"gpt2-xl (1558M)\"]\n",
    "model_configs_xl.update({\"context_length\": 1024})\n",
    "model_gpt_xl = GPTModel(model_configs_xl)\n",
    "data_utils.load_weights_into_gpt(model_gpt_xl, params_gpt2_xl)"
   ]
  },
  {
   "cell_type": "code",
   "execution_count": null,
   "id": "ebb187ce",
   "metadata": {},
   "outputs": [],
   "source": [
    "model_gpt.to(device)"
   ]
  },
  {
   "cell_type": "code",
   "execution_count": 13,
   "id": "679ba0ad",
   "metadata": {},
   "outputs": [],
   "source": [
    "import tiktoken\n",
    "tokenizer = tiktoken.get_encoding(\"gpt2\")"
   ]
  },
  {
   "cell_type": "code",
   "execution_count": null,
   "id": "d3b61a57",
   "metadata": {},
   "outputs": [
    {
     "name": "stdout",
     "output_type": "stream",
     "text": [
      "Output text:\n",
      " Walter é lindo demais de los tres lugaras y delle sémoías perió y los très conílimos: por la calle para ticánico poca del módica que sì quien perdu porque dúmó. (9)\" – \"What will be done with the human? Will it become extinct before we end this century?\"<|endoftext|>Pretend that all you need is that \"this is a list. So\n"
     ]
    }
   ],
   "source": [
    "from core.data.utils import generate_text, text_to_token_ids, token_ids_to_text\n",
    "\n",
    "model_gpt.eval()\n",
    "token_ids = generate_text(\n",
    " model=model_gpt,\n",
    " idx=text_to_token_ids(\"Walter é lindo demais\", tokenizer).unsqueeze(0),\n",
    " max_new_tokens=100,\n",
    " context_size=model_configs[\"gpt2-small (124M)\"][\"context_length\"],\n",
    " top_k=50,\n",
    " temperature=1.5\n",
    ")\n",
    "\n",
    "print(\"Output text:\\n\", token_ids_to_text(token_ids.squeeze(0), tokenizer))"
   ]
  },
  {
   "cell_type": "code",
   "execution_count": null,
   "id": "e68341d4",
   "metadata": {},
   "outputs": [],
   "source": [
    "from core.data.utils import generate_text, text_to_token_ids, token_ids_to_text\n",
    "\n",
    "model_gpt_xl.eval()\n",
    "token_ids = generate_text(\n",
    " model=model_gpt_xl,\n",
    " idx=text_to_token_ids(\"Walter é lindo demais\", tokenizer).unsqueeze(0),\n",
    " max_new_tokens=100,\n",
    " context_size=model_configs[\"gpt2-xl (1558M)\"][\"context_length\"],\n",
    " top_k=50,\n",
    " temperature=1.5\n",
    ")\n",
    "\n",
    "print(\"Output text:\\n\", token_ids_to_text(token_ids.squeeze(0), tokenizer))"
   ]
  }
 ],
 "metadata": {
  "kernelspec": {
   "display_name": "llm_env",
   "language": "python",
   "name": "python3"
  },
  "language_info": {
   "codemirror_mode": {
    "name": "ipython",
    "version": 3
   },
   "file_extension": ".py",
   "mimetype": "text/x-python",
   "name": "python",
   "nbconvert_exporter": "python",
   "pygments_lexer": "ipython3",
   "version": "3.10.18"
  }
 },
 "nbformat": 4,
 "nbformat_minor": 5
}
